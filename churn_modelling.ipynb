{
  "nbformat": 4,
  "nbformat_minor": 0,
  "metadata": {
    "colab": {
      "provenance": [],
      "gpuType": "T4",
      "toc_visible": true,
      "authorship_tag": "ABX9TyOXlFyTY2M7u3fOs4tDvLgc",
      "include_colab_link": true
    },
    "kernelspec": {
      "name": "python3",
      "display_name": "Python 3"
    },
    "language_info": {
      "name": "python"
    },
    "accelerator": "GPU"
  },
  "cells": [
    {
      "cell_type": "markdown",
      "metadata": {
        "id": "view-in-github",
        "colab_type": "text"
      },
      "source": [
        "<a href=\"https://colab.research.google.com/github/SriChaCodes/Churn_modelling/blob/main/churn_modelling.ipynb\" target=\"_parent\"><img src=\"https://colab.research.google.com/assets/colab-badge.svg\" alt=\"Open In Colab\"/></a>"
      ]
    },
    {
      "cell_type": "code",
      "execution_count": 1,
      "metadata": {
        "colab": {
          "base_uri": "https://localhost:8080/"
        },
        "id": "NGJ-3BrvCQj4",
        "outputId": "91094779-dfe8-4306-a3ab-64a71c3839d3"
      },
      "outputs": [
        {
          "output_type": "stream",
          "name": "stdout",
          "text": [
            "Requirement already satisfied: tensorflow==2.13.0 in /usr/local/lib/python3.10/dist-packages (2.13.0)\n",
            "Requirement already satisfied: absl-py>=1.0.0 in /usr/local/lib/python3.10/dist-packages (from tensorflow==2.13.0) (1.4.0)\n",
            "Requirement already satisfied: astunparse>=1.6.0 in /usr/local/lib/python3.10/dist-packages (from tensorflow==2.13.0) (1.6.3)\n",
            "Requirement already satisfied: flatbuffers>=23.1.21 in /usr/local/lib/python3.10/dist-packages (from tensorflow==2.13.0) (24.3.25)\n",
            "Requirement already satisfied: gast<=0.4.0,>=0.2.1 in /usr/local/lib/python3.10/dist-packages (from tensorflow==2.13.0) (0.4.0)\n",
            "Requirement already satisfied: google-pasta>=0.1.1 in /usr/local/lib/python3.10/dist-packages (from tensorflow==2.13.0) (0.2.0)\n",
            "Requirement already satisfied: grpcio<2.0,>=1.24.3 in /usr/local/lib/python3.10/dist-packages (from tensorflow==2.13.0) (1.64.0)\n",
            "Requirement already satisfied: h5py>=2.9.0 in /usr/local/lib/python3.10/dist-packages (from tensorflow==2.13.0) (3.9.0)\n",
            "Requirement already satisfied: keras<2.14,>=2.13.1 in /usr/local/lib/python3.10/dist-packages (from tensorflow==2.13.0) (2.13.1)\n",
            "Requirement already satisfied: libclang>=13.0.0 in /usr/local/lib/python3.10/dist-packages (from tensorflow==2.13.0) (18.1.1)\n",
            "Requirement already satisfied: numpy<=1.24.3,>=1.22 in /usr/local/lib/python3.10/dist-packages (from tensorflow==2.13.0) (1.24.3)\n",
            "Requirement already satisfied: opt-einsum>=2.3.2 in /usr/local/lib/python3.10/dist-packages (from tensorflow==2.13.0) (3.3.0)\n",
            "Requirement already satisfied: packaging in /usr/local/lib/python3.10/dist-packages (from tensorflow==2.13.0) (24.0)\n",
            "Requirement already satisfied: protobuf!=4.21.0,!=4.21.1,!=4.21.2,!=4.21.3,!=4.21.4,!=4.21.5,<5.0.0dev,>=3.20.3 in /usr/local/lib/python3.10/dist-packages (from tensorflow==2.13.0) (3.20.3)\n",
            "Requirement already satisfied: setuptools in /usr/local/lib/python3.10/dist-packages (from tensorflow==2.13.0) (67.7.2)\n",
            "Requirement already satisfied: six>=1.12.0 in /usr/local/lib/python3.10/dist-packages (from tensorflow==2.13.0) (1.16.0)\n",
            "Requirement already satisfied: tensorboard<2.14,>=2.13 in /usr/local/lib/python3.10/dist-packages (from tensorflow==2.13.0) (2.13.0)\n",
            "Requirement already satisfied: tensorflow-estimator<2.14,>=2.13.0 in /usr/local/lib/python3.10/dist-packages (from tensorflow==2.13.0) (2.13.0)\n",
            "Requirement already satisfied: termcolor>=1.1.0 in /usr/local/lib/python3.10/dist-packages (from tensorflow==2.13.0) (2.4.0)\n",
            "Requirement already satisfied: typing-extensions<4.6.0,>=3.6.6 in /usr/local/lib/python3.10/dist-packages (from tensorflow==2.13.0) (4.5.0)\n",
            "Requirement already satisfied: wrapt>=1.11.0 in /usr/local/lib/python3.10/dist-packages (from tensorflow==2.13.0) (1.14.1)\n",
            "Requirement already satisfied: tensorflow-io-gcs-filesystem>=0.23.1 in /usr/local/lib/python3.10/dist-packages (from tensorflow==2.13.0) (0.37.0)\n",
            "Requirement already satisfied: wheel<1.0,>=0.23.0 in /usr/local/lib/python3.10/dist-packages (from astunparse>=1.6.0->tensorflow==2.13.0) (0.43.0)\n",
            "Requirement already satisfied: google-auth<3,>=1.6.3 in /usr/local/lib/python3.10/dist-packages (from tensorboard<2.14,>=2.13->tensorflow==2.13.0) (2.27.0)\n",
            "Requirement already satisfied: google-auth-oauthlib<1.1,>=0.5 in /usr/local/lib/python3.10/dist-packages (from tensorboard<2.14,>=2.13->tensorflow==2.13.0) (1.0.0)\n",
            "Requirement already satisfied: markdown>=2.6.8 in /usr/local/lib/python3.10/dist-packages (from tensorboard<2.14,>=2.13->tensorflow==2.13.0) (3.6)\n",
            "Requirement already satisfied: requests<3,>=2.21.0 in /usr/local/lib/python3.10/dist-packages (from tensorboard<2.14,>=2.13->tensorflow==2.13.0) (2.31.0)\n",
            "Requirement already satisfied: tensorboard-data-server<0.8.0,>=0.7.0 in /usr/local/lib/python3.10/dist-packages (from tensorboard<2.14,>=2.13->tensorflow==2.13.0) (0.7.2)\n",
            "Requirement already satisfied: werkzeug>=1.0.1 in /usr/local/lib/python3.10/dist-packages (from tensorboard<2.14,>=2.13->tensorflow==2.13.0) (3.0.3)\n",
            "Requirement already satisfied: cachetools<6.0,>=2.0.0 in /usr/local/lib/python3.10/dist-packages (from google-auth<3,>=1.6.3->tensorboard<2.14,>=2.13->tensorflow==2.13.0) (5.3.3)\n",
            "Requirement already satisfied: pyasn1-modules>=0.2.1 in /usr/local/lib/python3.10/dist-packages (from google-auth<3,>=1.6.3->tensorboard<2.14,>=2.13->tensorflow==2.13.0) (0.4.0)\n",
            "Requirement already satisfied: rsa<5,>=3.1.4 in /usr/local/lib/python3.10/dist-packages (from google-auth<3,>=1.6.3->tensorboard<2.14,>=2.13->tensorflow==2.13.0) (4.9)\n",
            "Requirement already satisfied: requests-oauthlib>=0.7.0 in /usr/local/lib/python3.10/dist-packages (from google-auth-oauthlib<1.1,>=0.5->tensorboard<2.14,>=2.13->tensorflow==2.13.0) (1.3.1)\n",
            "Requirement already satisfied: charset-normalizer<4,>=2 in /usr/local/lib/python3.10/dist-packages (from requests<3,>=2.21.0->tensorboard<2.14,>=2.13->tensorflow==2.13.0) (3.3.2)\n",
            "Requirement already satisfied: idna<4,>=2.5 in /usr/local/lib/python3.10/dist-packages (from requests<3,>=2.21.0->tensorboard<2.14,>=2.13->tensorflow==2.13.0) (3.7)\n",
            "Requirement already satisfied: urllib3<3,>=1.21.1 in /usr/local/lib/python3.10/dist-packages (from requests<3,>=2.21.0->tensorboard<2.14,>=2.13->tensorflow==2.13.0) (2.0.7)\n",
            "Requirement already satisfied: certifi>=2017.4.17 in /usr/local/lib/python3.10/dist-packages (from requests<3,>=2.21.0->tensorboard<2.14,>=2.13->tensorflow==2.13.0) (2024.2.2)\n",
            "Requirement already satisfied: MarkupSafe>=2.1.1 in /usr/local/lib/python3.10/dist-packages (from werkzeug>=1.0.1->tensorboard<2.14,>=2.13->tensorflow==2.13.0) (2.1.5)\n",
            "Requirement already satisfied: pyasn1<0.7.0,>=0.4.6 in /usr/local/lib/python3.10/dist-packages (from pyasn1-modules>=0.2.1->google-auth<3,>=1.6.3->tensorboard<2.14,>=2.13->tensorflow==2.13.0) (0.6.0)\n",
            "Requirement already satisfied: oauthlib>=3.0.0 in /usr/local/lib/python3.10/dist-packages (from requests-oauthlib>=0.7.0->google-auth-oauthlib<1.1,>=0.5->tensorboard<2.14,>=2.13->tensorflow==2.13.0) (3.2.2)\n"
          ]
        }
      ],
      "source": [
        "!pip install tensorflow==2.13.0"
      ]
    },
    {
      "cell_type": "code",
      "source": [
        "import tensorflow as tf\n",
        "print(tf.__version__)"
      ],
      "metadata": {
        "colab": {
          "base_uri": "https://localhost:8080/"
        },
        "id": "fuoKr2evERf3",
        "outputId": "59949d29-c5e9-436d-9fbe-42db080a883b"
      },
      "execution_count": 2,
      "outputs": [
        {
          "output_type": "stream",
          "name": "stdout",
          "text": [
            "2.13.0\n"
          ]
        }
      ]
    },
    {
      "cell_type": "code",
      "source": [
        "#import some basic libraries\n",
        "import numpy as np\n",
        "import matplotlib.pyplot as plt\n",
        "import pandas as pd"
      ],
      "metadata": {
        "id": "aFD_w0amEZxw"
      },
      "execution_count": 3,
      "outputs": []
    },
    {
      "cell_type": "code",
      "source": [
        "dataset= pd.read_csv('Churn_Modelling.csv')\n",
        "dataset.head()"
      ],
      "metadata": {
        "colab": {
          "base_uri": "https://localhost:8080/",
          "height": 226
        },
        "id": "2MFY_VkDEmyT",
        "outputId": "b7a64307-c9c1-4316-aa23-0a02fab27814"
      },
      "execution_count": 4,
      "outputs": [
        {
          "output_type": "execute_result",
          "data": {
            "text/plain": [
              "   RowNumber  CustomerId   Surname  CreditScore Geography  Gender  Age  \\\n",
              "0          1    15634602  Hargrave          619    France  Female   42   \n",
              "1          2    15647311      Hill          608     Spain  Female   41   \n",
              "2          3    15619304      Onio          502    France  Female   42   \n",
              "3          4    15701354      Boni          699    France  Female   39   \n",
              "4          5    15737888  Mitchell          850     Spain  Female   43   \n",
              "\n",
              "   Tenure    Balance  NumOfProducts  HasCrCard  IsActiveMember  \\\n",
              "0       2       0.00              1          1               1   \n",
              "1       1   83807.86              1          0               1   \n",
              "2       8  159660.80              3          1               0   \n",
              "3       1       0.00              2          0               0   \n",
              "4       2  125510.82              1          1               1   \n",
              "\n",
              "   EstimatedSalary  Exited  \n",
              "0        101348.88       1  \n",
              "1        112542.58       0  \n",
              "2        113931.57       1  \n",
              "3         93826.63       0  \n",
              "4         79084.10       0  "
            ],
            "text/html": [
              "\n",
              "  <div id=\"df-8e252fa8-a4b9-49da-beec-8f9d47e47e4b\" class=\"colab-df-container\">\n",
              "    <div>\n",
              "<style scoped>\n",
              "    .dataframe tbody tr th:only-of-type {\n",
              "        vertical-align: middle;\n",
              "    }\n",
              "\n",
              "    .dataframe tbody tr th {\n",
              "        vertical-align: top;\n",
              "    }\n",
              "\n",
              "    .dataframe thead th {\n",
              "        text-align: right;\n",
              "    }\n",
              "</style>\n",
              "<table border=\"1\" class=\"dataframe\">\n",
              "  <thead>\n",
              "    <tr style=\"text-align: right;\">\n",
              "      <th></th>\n",
              "      <th>RowNumber</th>\n",
              "      <th>CustomerId</th>\n",
              "      <th>Surname</th>\n",
              "      <th>CreditScore</th>\n",
              "      <th>Geography</th>\n",
              "      <th>Gender</th>\n",
              "      <th>Age</th>\n",
              "      <th>Tenure</th>\n",
              "      <th>Balance</th>\n",
              "      <th>NumOfProducts</th>\n",
              "      <th>HasCrCard</th>\n",
              "      <th>IsActiveMember</th>\n",
              "      <th>EstimatedSalary</th>\n",
              "      <th>Exited</th>\n",
              "    </tr>\n",
              "  </thead>\n",
              "  <tbody>\n",
              "    <tr>\n",
              "      <th>0</th>\n",
              "      <td>1</td>\n",
              "      <td>15634602</td>\n",
              "      <td>Hargrave</td>\n",
              "      <td>619</td>\n",
              "      <td>France</td>\n",
              "      <td>Female</td>\n",
              "      <td>42</td>\n",
              "      <td>2</td>\n",
              "      <td>0.00</td>\n",
              "      <td>1</td>\n",
              "      <td>1</td>\n",
              "      <td>1</td>\n",
              "      <td>101348.88</td>\n",
              "      <td>1</td>\n",
              "    </tr>\n",
              "    <tr>\n",
              "      <th>1</th>\n",
              "      <td>2</td>\n",
              "      <td>15647311</td>\n",
              "      <td>Hill</td>\n",
              "      <td>608</td>\n",
              "      <td>Spain</td>\n",
              "      <td>Female</td>\n",
              "      <td>41</td>\n",
              "      <td>1</td>\n",
              "      <td>83807.86</td>\n",
              "      <td>1</td>\n",
              "      <td>0</td>\n",
              "      <td>1</td>\n",
              "      <td>112542.58</td>\n",
              "      <td>0</td>\n",
              "    </tr>\n",
              "    <tr>\n",
              "      <th>2</th>\n",
              "      <td>3</td>\n",
              "      <td>15619304</td>\n",
              "      <td>Onio</td>\n",
              "      <td>502</td>\n",
              "      <td>France</td>\n",
              "      <td>Female</td>\n",
              "      <td>42</td>\n",
              "      <td>8</td>\n",
              "      <td>159660.80</td>\n",
              "      <td>3</td>\n",
              "      <td>1</td>\n",
              "      <td>0</td>\n",
              "      <td>113931.57</td>\n",
              "      <td>1</td>\n",
              "    </tr>\n",
              "    <tr>\n",
              "      <th>3</th>\n",
              "      <td>4</td>\n",
              "      <td>15701354</td>\n",
              "      <td>Boni</td>\n",
              "      <td>699</td>\n",
              "      <td>France</td>\n",
              "      <td>Female</td>\n",
              "      <td>39</td>\n",
              "      <td>1</td>\n",
              "      <td>0.00</td>\n",
              "      <td>2</td>\n",
              "      <td>0</td>\n",
              "      <td>0</td>\n",
              "      <td>93826.63</td>\n",
              "      <td>0</td>\n",
              "    </tr>\n",
              "    <tr>\n",
              "      <th>4</th>\n",
              "      <td>5</td>\n",
              "      <td>15737888</td>\n",
              "      <td>Mitchell</td>\n",
              "      <td>850</td>\n",
              "      <td>Spain</td>\n",
              "      <td>Female</td>\n",
              "      <td>43</td>\n",
              "      <td>2</td>\n",
              "      <td>125510.82</td>\n",
              "      <td>1</td>\n",
              "      <td>1</td>\n",
              "      <td>1</td>\n",
              "      <td>79084.10</td>\n",
              "      <td>0</td>\n",
              "    </tr>\n",
              "  </tbody>\n",
              "</table>\n",
              "</div>\n",
              "    <div class=\"colab-df-buttons\">\n",
              "\n",
              "  <div class=\"colab-df-container\">\n",
              "    <button class=\"colab-df-convert\" onclick=\"convertToInteractive('df-8e252fa8-a4b9-49da-beec-8f9d47e47e4b')\"\n",
              "            title=\"Convert this dataframe to an interactive table.\"\n",
              "            style=\"display:none;\">\n",
              "\n",
              "  <svg xmlns=\"http://www.w3.org/2000/svg\" height=\"24px\" viewBox=\"0 -960 960 960\">\n",
              "    <path d=\"M120-120v-720h720v720H120Zm60-500h600v-160H180v160Zm220 220h160v-160H400v160Zm0 220h160v-160H400v160ZM180-400h160v-160H180v160Zm440 0h160v-160H620v160ZM180-180h160v-160H180v160Zm440 0h160v-160H620v160Z\"/>\n",
              "  </svg>\n",
              "    </button>\n",
              "\n",
              "  <style>\n",
              "    .colab-df-container {\n",
              "      display:flex;\n",
              "      gap: 12px;\n",
              "    }\n",
              "\n",
              "    .colab-df-convert {\n",
              "      background-color: #E8F0FE;\n",
              "      border: none;\n",
              "      border-radius: 50%;\n",
              "      cursor: pointer;\n",
              "      display: none;\n",
              "      fill: #1967D2;\n",
              "      height: 32px;\n",
              "      padding: 0 0 0 0;\n",
              "      width: 32px;\n",
              "    }\n",
              "\n",
              "    .colab-df-convert:hover {\n",
              "      background-color: #E2EBFA;\n",
              "      box-shadow: 0px 1px 2px rgba(60, 64, 67, 0.3), 0px 1px 3px 1px rgba(60, 64, 67, 0.15);\n",
              "      fill: #174EA6;\n",
              "    }\n",
              "\n",
              "    .colab-df-buttons div {\n",
              "      margin-bottom: 4px;\n",
              "    }\n",
              "\n",
              "    [theme=dark] .colab-df-convert {\n",
              "      background-color: #3B4455;\n",
              "      fill: #D2E3FC;\n",
              "    }\n",
              "\n",
              "    [theme=dark] .colab-df-convert:hover {\n",
              "      background-color: #434B5C;\n",
              "      box-shadow: 0px 1px 3px 1px rgba(0, 0, 0, 0.15);\n",
              "      filter: drop-shadow(0px 1px 2px rgba(0, 0, 0, 0.3));\n",
              "      fill: #FFFFFF;\n",
              "    }\n",
              "  </style>\n",
              "\n",
              "    <script>\n",
              "      const buttonEl =\n",
              "        document.querySelector('#df-8e252fa8-a4b9-49da-beec-8f9d47e47e4b button.colab-df-convert');\n",
              "      buttonEl.style.display =\n",
              "        google.colab.kernel.accessAllowed ? 'block' : 'none';\n",
              "\n",
              "      async function convertToInteractive(key) {\n",
              "        const element = document.querySelector('#df-8e252fa8-a4b9-49da-beec-8f9d47e47e4b');\n",
              "        const dataTable =\n",
              "          await google.colab.kernel.invokeFunction('convertToInteractive',\n",
              "                                                    [key], {});\n",
              "        if (!dataTable) return;\n",
              "\n",
              "        const docLinkHtml = 'Like what you see? Visit the ' +\n",
              "          '<a target=\"_blank\" href=https://colab.research.google.com/notebooks/data_table.ipynb>data table notebook</a>'\n",
              "          + ' to learn more about interactive tables.';\n",
              "        element.innerHTML = '';\n",
              "        dataTable['output_type'] = 'display_data';\n",
              "        await google.colab.output.renderOutput(dataTable, element);\n",
              "        const docLink = document.createElement('div');\n",
              "        docLink.innerHTML = docLinkHtml;\n",
              "        element.appendChild(docLink);\n",
              "      }\n",
              "    </script>\n",
              "  </div>\n",
              "\n",
              "\n",
              "<div id=\"df-95a0047e-62a6-4792-8826-88515ffcc6b6\">\n",
              "  <button class=\"colab-df-quickchart\" onclick=\"quickchart('df-95a0047e-62a6-4792-8826-88515ffcc6b6')\"\n",
              "            title=\"Suggest charts\"\n",
              "            style=\"display:none;\">\n",
              "\n",
              "<svg xmlns=\"http://www.w3.org/2000/svg\" height=\"24px\"viewBox=\"0 0 24 24\"\n",
              "     width=\"24px\">\n",
              "    <g>\n",
              "        <path d=\"M19 3H5c-1.1 0-2 .9-2 2v14c0 1.1.9 2 2 2h14c1.1 0 2-.9 2-2V5c0-1.1-.9-2-2-2zM9 17H7v-7h2v7zm4 0h-2V7h2v10zm4 0h-2v-4h2v4z\"/>\n",
              "    </g>\n",
              "</svg>\n",
              "  </button>\n",
              "\n",
              "<style>\n",
              "  .colab-df-quickchart {\n",
              "      --bg-color: #E8F0FE;\n",
              "      --fill-color: #1967D2;\n",
              "      --hover-bg-color: #E2EBFA;\n",
              "      --hover-fill-color: #174EA6;\n",
              "      --disabled-fill-color: #AAA;\n",
              "      --disabled-bg-color: #DDD;\n",
              "  }\n",
              "\n",
              "  [theme=dark] .colab-df-quickchart {\n",
              "      --bg-color: #3B4455;\n",
              "      --fill-color: #D2E3FC;\n",
              "      --hover-bg-color: #434B5C;\n",
              "      --hover-fill-color: #FFFFFF;\n",
              "      --disabled-bg-color: #3B4455;\n",
              "      --disabled-fill-color: #666;\n",
              "  }\n",
              "\n",
              "  .colab-df-quickchart {\n",
              "    background-color: var(--bg-color);\n",
              "    border: none;\n",
              "    border-radius: 50%;\n",
              "    cursor: pointer;\n",
              "    display: none;\n",
              "    fill: var(--fill-color);\n",
              "    height: 32px;\n",
              "    padding: 0;\n",
              "    width: 32px;\n",
              "  }\n",
              "\n",
              "  .colab-df-quickchart:hover {\n",
              "    background-color: var(--hover-bg-color);\n",
              "    box-shadow: 0 1px 2px rgba(60, 64, 67, 0.3), 0 1px 3px 1px rgba(60, 64, 67, 0.15);\n",
              "    fill: var(--button-hover-fill-color);\n",
              "  }\n",
              "\n",
              "  .colab-df-quickchart-complete:disabled,\n",
              "  .colab-df-quickchart-complete:disabled:hover {\n",
              "    background-color: var(--disabled-bg-color);\n",
              "    fill: var(--disabled-fill-color);\n",
              "    box-shadow: none;\n",
              "  }\n",
              "\n",
              "  .colab-df-spinner {\n",
              "    border: 2px solid var(--fill-color);\n",
              "    border-color: transparent;\n",
              "    border-bottom-color: var(--fill-color);\n",
              "    animation:\n",
              "      spin 1s steps(1) infinite;\n",
              "  }\n",
              "\n",
              "  @keyframes spin {\n",
              "    0% {\n",
              "      border-color: transparent;\n",
              "      border-bottom-color: var(--fill-color);\n",
              "      border-left-color: var(--fill-color);\n",
              "    }\n",
              "    20% {\n",
              "      border-color: transparent;\n",
              "      border-left-color: var(--fill-color);\n",
              "      border-top-color: var(--fill-color);\n",
              "    }\n",
              "    30% {\n",
              "      border-color: transparent;\n",
              "      border-left-color: var(--fill-color);\n",
              "      border-top-color: var(--fill-color);\n",
              "      border-right-color: var(--fill-color);\n",
              "    }\n",
              "    40% {\n",
              "      border-color: transparent;\n",
              "      border-right-color: var(--fill-color);\n",
              "      border-top-color: var(--fill-color);\n",
              "    }\n",
              "    60% {\n",
              "      border-color: transparent;\n",
              "      border-right-color: var(--fill-color);\n",
              "    }\n",
              "    80% {\n",
              "      border-color: transparent;\n",
              "      border-right-color: var(--fill-color);\n",
              "      border-bottom-color: var(--fill-color);\n",
              "    }\n",
              "    90% {\n",
              "      border-color: transparent;\n",
              "      border-bottom-color: var(--fill-color);\n",
              "    }\n",
              "  }\n",
              "</style>\n",
              "\n",
              "  <script>\n",
              "    async function quickchart(key) {\n",
              "      const quickchartButtonEl =\n",
              "        document.querySelector('#' + key + ' button');\n",
              "      quickchartButtonEl.disabled = true;  // To prevent multiple clicks.\n",
              "      quickchartButtonEl.classList.add('colab-df-spinner');\n",
              "      try {\n",
              "        const charts = await google.colab.kernel.invokeFunction(\n",
              "            'suggestCharts', [key], {});\n",
              "      } catch (error) {\n",
              "        console.error('Error during call to suggestCharts:', error);\n",
              "      }\n",
              "      quickchartButtonEl.classList.remove('colab-df-spinner');\n",
              "      quickchartButtonEl.classList.add('colab-df-quickchart-complete');\n",
              "    }\n",
              "    (() => {\n",
              "      let quickchartButtonEl =\n",
              "        document.querySelector('#df-95a0047e-62a6-4792-8826-88515ffcc6b6 button');\n",
              "      quickchartButtonEl.style.display =\n",
              "        google.colab.kernel.accessAllowed ? 'block' : 'none';\n",
              "    })();\n",
              "  </script>\n",
              "</div>\n",
              "\n",
              "    </div>\n",
              "  </div>\n"
            ],
            "application/vnd.google.colaboratory.intrinsic+json": {
              "type": "dataframe",
              "variable_name": "dataset",
              "summary": "{\n  \"name\": \"dataset\",\n  \"rows\": 10000,\n  \"fields\": [\n    {\n      \"column\": \"RowNumber\",\n      \"properties\": {\n        \"dtype\": \"number\",\n        \"std\": 2886,\n        \"min\": 1,\n        \"max\": 10000,\n        \"num_unique_values\": 10000,\n        \"samples\": [\n          6253,\n          4685,\n          1732\n        ],\n        \"semantic_type\": \"\",\n        \"description\": \"\"\n      }\n    },\n    {\n      \"column\": \"CustomerId\",\n      \"properties\": {\n        \"dtype\": \"number\",\n        \"std\": 71936,\n        \"min\": 15565701,\n        \"max\": 15815690,\n        \"num_unique_values\": 10000,\n        \"samples\": [\n          15687492,\n          15736963,\n          15721730\n        ],\n        \"semantic_type\": \"\",\n        \"description\": \"\"\n      }\n    },\n    {\n      \"column\": \"Surname\",\n      \"properties\": {\n        \"dtype\": \"category\",\n        \"num_unique_values\": 2932,\n        \"samples\": [\n          \"McGuirk\",\n          \"Torkelson\",\n          \"Rapuluchukwu\"\n        ],\n        \"semantic_type\": \"\",\n        \"description\": \"\"\n      }\n    },\n    {\n      \"column\": \"CreditScore\",\n      \"properties\": {\n        \"dtype\": \"number\",\n        \"std\": 96,\n        \"min\": 350,\n        \"max\": 850,\n        \"num_unique_values\": 460,\n        \"samples\": [\n          754,\n          533,\n          744\n        ],\n        \"semantic_type\": \"\",\n        \"description\": \"\"\n      }\n    },\n    {\n      \"column\": \"Geography\",\n      \"properties\": {\n        \"dtype\": \"category\",\n        \"num_unique_values\": 3,\n        \"samples\": [\n          \"France\",\n          \"Spain\",\n          \"Germany\"\n        ],\n        \"semantic_type\": \"\",\n        \"description\": \"\"\n      }\n    },\n    {\n      \"column\": \"Gender\",\n      \"properties\": {\n        \"dtype\": \"category\",\n        \"num_unique_values\": 2,\n        \"samples\": [\n          \"Male\",\n          \"Female\"\n        ],\n        \"semantic_type\": \"\",\n        \"description\": \"\"\n      }\n    },\n    {\n      \"column\": \"Age\",\n      \"properties\": {\n        \"dtype\": \"number\",\n        \"std\": 10,\n        \"min\": 18,\n        \"max\": 92,\n        \"num_unique_values\": 70,\n        \"samples\": [\n          61,\n          42\n        ],\n        \"semantic_type\": \"\",\n        \"description\": \"\"\n      }\n    },\n    {\n      \"column\": \"Tenure\",\n      \"properties\": {\n        \"dtype\": \"number\",\n        \"std\": 2,\n        \"min\": 0,\n        \"max\": 10,\n        \"num_unique_values\": 11,\n        \"samples\": [\n          6,\n          2\n        ],\n        \"semantic_type\": \"\",\n        \"description\": \"\"\n      }\n    },\n    {\n      \"column\": \"Balance\",\n      \"properties\": {\n        \"dtype\": \"number\",\n        \"std\": 62397.405202385955,\n        \"min\": 0.0,\n        \"max\": 250898.09,\n        \"num_unique_values\": 6382,\n        \"samples\": [\n          117707.18,\n          133050.97\n        ],\n        \"semantic_type\": \"\",\n        \"description\": \"\"\n      }\n    },\n    {\n      \"column\": \"NumOfProducts\",\n      \"properties\": {\n        \"dtype\": \"number\",\n        \"std\": 0,\n        \"min\": 1,\n        \"max\": 4,\n        \"num_unique_values\": 4,\n        \"samples\": [\n          3,\n          4\n        ],\n        \"semantic_type\": \"\",\n        \"description\": \"\"\n      }\n    },\n    {\n      \"column\": \"HasCrCard\",\n      \"properties\": {\n        \"dtype\": \"number\",\n        \"std\": 0,\n        \"min\": 0,\n        \"max\": 1,\n        \"num_unique_values\": 2,\n        \"samples\": [\n          0,\n          1\n        ],\n        \"semantic_type\": \"\",\n        \"description\": \"\"\n      }\n    },\n    {\n      \"column\": \"IsActiveMember\",\n      \"properties\": {\n        \"dtype\": \"number\",\n        \"std\": 0,\n        \"min\": 0,\n        \"max\": 1,\n        \"num_unique_values\": 2,\n        \"samples\": [\n          0,\n          1\n        ],\n        \"semantic_type\": \"\",\n        \"description\": \"\"\n      }\n    },\n    {\n      \"column\": \"EstimatedSalary\",\n      \"properties\": {\n        \"dtype\": \"number\",\n        \"std\": 57510.49281769816,\n        \"min\": 11.58,\n        \"max\": 199992.48,\n        \"num_unique_values\": 9999,\n        \"samples\": [\n          100809.99,\n          95273.73\n        ],\n        \"semantic_type\": \"\",\n        \"description\": \"\"\n      }\n    },\n    {\n      \"column\": \"Exited\",\n      \"properties\": {\n        \"dtype\": \"number\",\n        \"std\": 0,\n        \"min\": 0,\n        \"max\": 1,\n        \"num_unique_values\": 2,\n        \"samples\": [\n          0,\n          1\n        ],\n        \"semantic_type\": \"\",\n        \"description\": \"\"\n      }\n    }\n  ]\n}"
            }
          },
          "metadata": {},
          "execution_count": 4
        }
      ]
    },
    {
      "cell_type": "code",
      "source": [
        "## Divide the dataset into independent and dependent features\n",
        "\n",
        "X = dataset.iloc[:, 3:13]\n",
        "y = dataset.iloc[:, 13]\n",
        "X.head()"
      ],
      "metadata": {
        "colab": {
          "base_uri": "https://localhost:8080/",
          "height": 206
        },
        "id": "dSc0d9VpE25d",
        "outputId": "197b0c26-1542-4a70-9054-f88a71e97a55"
      },
      "execution_count": 5,
      "outputs": [
        {
          "output_type": "execute_result",
          "data": {
            "text/plain": [
              "   CreditScore Geography  Gender  Age  Tenure    Balance  NumOfProducts  \\\n",
              "0          619    France  Female   42       2       0.00              1   \n",
              "1          608     Spain  Female   41       1   83807.86              1   \n",
              "2          502    France  Female   42       8  159660.80              3   \n",
              "3          699    France  Female   39       1       0.00              2   \n",
              "4          850     Spain  Female   43       2  125510.82              1   \n",
              "\n",
              "   HasCrCard  IsActiveMember  EstimatedSalary  \n",
              "0          1               1        101348.88  \n",
              "1          0               1        112542.58  \n",
              "2          1               0        113931.57  \n",
              "3          0               0         93826.63  \n",
              "4          1               1         79084.10  "
            ],
            "text/html": [
              "\n",
              "  <div id=\"df-ecc04265-0e21-4dec-a651-eff1440d0bd9\" class=\"colab-df-container\">\n",
              "    <div>\n",
              "<style scoped>\n",
              "    .dataframe tbody tr th:only-of-type {\n",
              "        vertical-align: middle;\n",
              "    }\n",
              "\n",
              "    .dataframe tbody tr th {\n",
              "        vertical-align: top;\n",
              "    }\n",
              "\n",
              "    .dataframe thead th {\n",
              "        text-align: right;\n",
              "    }\n",
              "</style>\n",
              "<table border=\"1\" class=\"dataframe\">\n",
              "  <thead>\n",
              "    <tr style=\"text-align: right;\">\n",
              "      <th></th>\n",
              "      <th>CreditScore</th>\n",
              "      <th>Geography</th>\n",
              "      <th>Gender</th>\n",
              "      <th>Age</th>\n",
              "      <th>Tenure</th>\n",
              "      <th>Balance</th>\n",
              "      <th>NumOfProducts</th>\n",
              "      <th>HasCrCard</th>\n",
              "      <th>IsActiveMember</th>\n",
              "      <th>EstimatedSalary</th>\n",
              "    </tr>\n",
              "  </thead>\n",
              "  <tbody>\n",
              "    <tr>\n",
              "      <th>0</th>\n",
              "      <td>619</td>\n",
              "      <td>France</td>\n",
              "      <td>Female</td>\n",
              "      <td>42</td>\n",
              "      <td>2</td>\n",
              "      <td>0.00</td>\n",
              "      <td>1</td>\n",
              "      <td>1</td>\n",
              "      <td>1</td>\n",
              "      <td>101348.88</td>\n",
              "    </tr>\n",
              "    <tr>\n",
              "      <th>1</th>\n",
              "      <td>608</td>\n",
              "      <td>Spain</td>\n",
              "      <td>Female</td>\n",
              "      <td>41</td>\n",
              "      <td>1</td>\n",
              "      <td>83807.86</td>\n",
              "      <td>1</td>\n",
              "      <td>0</td>\n",
              "      <td>1</td>\n",
              "      <td>112542.58</td>\n",
              "    </tr>\n",
              "    <tr>\n",
              "      <th>2</th>\n",
              "      <td>502</td>\n",
              "      <td>France</td>\n",
              "      <td>Female</td>\n",
              "      <td>42</td>\n",
              "      <td>8</td>\n",
              "      <td>159660.80</td>\n",
              "      <td>3</td>\n",
              "      <td>1</td>\n",
              "      <td>0</td>\n",
              "      <td>113931.57</td>\n",
              "    </tr>\n",
              "    <tr>\n",
              "      <th>3</th>\n",
              "      <td>699</td>\n",
              "      <td>France</td>\n",
              "      <td>Female</td>\n",
              "      <td>39</td>\n",
              "      <td>1</td>\n",
              "      <td>0.00</td>\n",
              "      <td>2</td>\n",
              "      <td>0</td>\n",
              "      <td>0</td>\n",
              "      <td>93826.63</td>\n",
              "    </tr>\n",
              "    <tr>\n",
              "      <th>4</th>\n",
              "      <td>850</td>\n",
              "      <td>Spain</td>\n",
              "      <td>Female</td>\n",
              "      <td>43</td>\n",
              "      <td>2</td>\n",
              "      <td>125510.82</td>\n",
              "      <td>1</td>\n",
              "      <td>1</td>\n",
              "      <td>1</td>\n",
              "      <td>79084.10</td>\n",
              "    </tr>\n",
              "  </tbody>\n",
              "</table>\n",
              "</div>\n",
              "    <div class=\"colab-df-buttons\">\n",
              "\n",
              "  <div class=\"colab-df-container\">\n",
              "    <button class=\"colab-df-convert\" onclick=\"convertToInteractive('df-ecc04265-0e21-4dec-a651-eff1440d0bd9')\"\n",
              "            title=\"Convert this dataframe to an interactive table.\"\n",
              "            style=\"display:none;\">\n",
              "\n",
              "  <svg xmlns=\"http://www.w3.org/2000/svg\" height=\"24px\" viewBox=\"0 -960 960 960\">\n",
              "    <path d=\"M120-120v-720h720v720H120Zm60-500h600v-160H180v160Zm220 220h160v-160H400v160Zm0 220h160v-160H400v160ZM180-400h160v-160H180v160Zm440 0h160v-160H620v160ZM180-180h160v-160H180v160Zm440 0h160v-160H620v160Z\"/>\n",
              "  </svg>\n",
              "    </button>\n",
              "\n",
              "  <style>\n",
              "    .colab-df-container {\n",
              "      display:flex;\n",
              "      gap: 12px;\n",
              "    }\n",
              "\n",
              "    .colab-df-convert {\n",
              "      background-color: #E8F0FE;\n",
              "      border: none;\n",
              "      border-radius: 50%;\n",
              "      cursor: pointer;\n",
              "      display: none;\n",
              "      fill: #1967D2;\n",
              "      height: 32px;\n",
              "      padding: 0 0 0 0;\n",
              "      width: 32px;\n",
              "    }\n",
              "\n",
              "    .colab-df-convert:hover {\n",
              "      background-color: #E2EBFA;\n",
              "      box-shadow: 0px 1px 2px rgba(60, 64, 67, 0.3), 0px 1px 3px 1px rgba(60, 64, 67, 0.15);\n",
              "      fill: #174EA6;\n",
              "    }\n",
              "\n",
              "    .colab-df-buttons div {\n",
              "      margin-bottom: 4px;\n",
              "    }\n",
              "\n",
              "    [theme=dark] .colab-df-convert {\n",
              "      background-color: #3B4455;\n",
              "      fill: #D2E3FC;\n",
              "    }\n",
              "\n",
              "    [theme=dark] .colab-df-convert:hover {\n",
              "      background-color: #434B5C;\n",
              "      box-shadow: 0px 1px 3px 1px rgba(0, 0, 0, 0.15);\n",
              "      filter: drop-shadow(0px 1px 2px rgba(0, 0, 0, 0.3));\n",
              "      fill: #FFFFFF;\n",
              "    }\n",
              "  </style>\n",
              "\n",
              "    <script>\n",
              "      const buttonEl =\n",
              "        document.querySelector('#df-ecc04265-0e21-4dec-a651-eff1440d0bd9 button.colab-df-convert');\n",
              "      buttonEl.style.display =\n",
              "        google.colab.kernel.accessAllowed ? 'block' : 'none';\n",
              "\n",
              "      async function convertToInteractive(key) {\n",
              "        const element = document.querySelector('#df-ecc04265-0e21-4dec-a651-eff1440d0bd9');\n",
              "        const dataTable =\n",
              "          await google.colab.kernel.invokeFunction('convertToInteractive',\n",
              "                                                    [key], {});\n",
              "        if (!dataTable) return;\n",
              "\n",
              "        const docLinkHtml = 'Like what you see? Visit the ' +\n",
              "          '<a target=\"_blank\" href=https://colab.research.google.com/notebooks/data_table.ipynb>data table notebook</a>'\n",
              "          + ' to learn more about interactive tables.';\n",
              "        element.innerHTML = '';\n",
              "        dataTable['output_type'] = 'display_data';\n",
              "        await google.colab.output.renderOutput(dataTable, element);\n",
              "        const docLink = document.createElement('div');\n",
              "        docLink.innerHTML = docLinkHtml;\n",
              "        element.appendChild(docLink);\n",
              "      }\n",
              "    </script>\n",
              "  </div>\n",
              "\n",
              "\n",
              "<div id=\"df-7c913767-b5f3-43b9-b6e0-b4b709933b28\">\n",
              "  <button class=\"colab-df-quickchart\" onclick=\"quickchart('df-7c913767-b5f3-43b9-b6e0-b4b709933b28')\"\n",
              "            title=\"Suggest charts\"\n",
              "            style=\"display:none;\">\n",
              "\n",
              "<svg xmlns=\"http://www.w3.org/2000/svg\" height=\"24px\"viewBox=\"0 0 24 24\"\n",
              "     width=\"24px\">\n",
              "    <g>\n",
              "        <path d=\"M19 3H5c-1.1 0-2 .9-2 2v14c0 1.1.9 2 2 2h14c1.1 0 2-.9 2-2V5c0-1.1-.9-2-2-2zM9 17H7v-7h2v7zm4 0h-2V7h2v10zm4 0h-2v-4h2v4z\"/>\n",
              "    </g>\n",
              "</svg>\n",
              "  </button>\n",
              "\n",
              "<style>\n",
              "  .colab-df-quickchart {\n",
              "      --bg-color: #E8F0FE;\n",
              "      --fill-color: #1967D2;\n",
              "      --hover-bg-color: #E2EBFA;\n",
              "      --hover-fill-color: #174EA6;\n",
              "      --disabled-fill-color: #AAA;\n",
              "      --disabled-bg-color: #DDD;\n",
              "  }\n",
              "\n",
              "  [theme=dark] .colab-df-quickchart {\n",
              "      --bg-color: #3B4455;\n",
              "      --fill-color: #D2E3FC;\n",
              "      --hover-bg-color: #434B5C;\n",
              "      --hover-fill-color: #FFFFFF;\n",
              "      --disabled-bg-color: #3B4455;\n",
              "      --disabled-fill-color: #666;\n",
              "  }\n",
              "\n",
              "  .colab-df-quickchart {\n",
              "    background-color: var(--bg-color);\n",
              "    border: none;\n",
              "    border-radius: 50%;\n",
              "    cursor: pointer;\n",
              "    display: none;\n",
              "    fill: var(--fill-color);\n",
              "    height: 32px;\n",
              "    padding: 0;\n",
              "    width: 32px;\n",
              "  }\n",
              "\n",
              "  .colab-df-quickchart:hover {\n",
              "    background-color: var(--hover-bg-color);\n",
              "    box-shadow: 0 1px 2px rgba(60, 64, 67, 0.3), 0 1px 3px 1px rgba(60, 64, 67, 0.15);\n",
              "    fill: var(--button-hover-fill-color);\n",
              "  }\n",
              "\n",
              "  .colab-df-quickchart-complete:disabled,\n",
              "  .colab-df-quickchart-complete:disabled:hover {\n",
              "    background-color: var(--disabled-bg-color);\n",
              "    fill: var(--disabled-fill-color);\n",
              "    box-shadow: none;\n",
              "  }\n",
              "\n",
              "  .colab-df-spinner {\n",
              "    border: 2px solid var(--fill-color);\n",
              "    border-color: transparent;\n",
              "    border-bottom-color: var(--fill-color);\n",
              "    animation:\n",
              "      spin 1s steps(1) infinite;\n",
              "  }\n",
              "\n",
              "  @keyframes spin {\n",
              "    0% {\n",
              "      border-color: transparent;\n",
              "      border-bottom-color: var(--fill-color);\n",
              "      border-left-color: var(--fill-color);\n",
              "    }\n",
              "    20% {\n",
              "      border-color: transparent;\n",
              "      border-left-color: var(--fill-color);\n",
              "      border-top-color: var(--fill-color);\n",
              "    }\n",
              "    30% {\n",
              "      border-color: transparent;\n",
              "      border-left-color: var(--fill-color);\n",
              "      border-top-color: var(--fill-color);\n",
              "      border-right-color: var(--fill-color);\n",
              "    }\n",
              "    40% {\n",
              "      border-color: transparent;\n",
              "      border-right-color: var(--fill-color);\n",
              "      border-top-color: var(--fill-color);\n",
              "    }\n",
              "    60% {\n",
              "      border-color: transparent;\n",
              "      border-right-color: var(--fill-color);\n",
              "    }\n",
              "    80% {\n",
              "      border-color: transparent;\n",
              "      border-right-color: var(--fill-color);\n",
              "      border-bottom-color: var(--fill-color);\n",
              "    }\n",
              "    90% {\n",
              "      border-color: transparent;\n",
              "      border-bottom-color: var(--fill-color);\n",
              "    }\n",
              "  }\n",
              "</style>\n",
              "\n",
              "  <script>\n",
              "    async function quickchart(key) {\n",
              "      const quickchartButtonEl =\n",
              "        document.querySelector('#' + key + ' button');\n",
              "      quickchartButtonEl.disabled = true;  // To prevent multiple clicks.\n",
              "      quickchartButtonEl.classList.add('colab-df-spinner');\n",
              "      try {\n",
              "        const charts = await google.colab.kernel.invokeFunction(\n",
              "            'suggestCharts', [key], {});\n",
              "      } catch (error) {\n",
              "        console.error('Error during call to suggestCharts:', error);\n",
              "      }\n",
              "      quickchartButtonEl.classList.remove('colab-df-spinner');\n",
              "      quickchartButtonEl.classList.add('colab-df-quickchart-complete');\n",
              "    }\n",
              "    (() => {\n",
              "      let quickchartButtonEl =\n",
              "        document.querySelector('#df-7c913767-b5f3-43b9-b6e0-b4b709933b28 button');\n",
              "      quickchartButtonEl.style.display =\n",
              "        google.colab.kernel.accessAllowed ? 'block' : 'none';\n",
              "    })();\n",
              "  </script>\n",
              "</div>\n",
              "\n",
              "    </div>\n",
              "  </div>\n"
            ],
            "application/vnd.google.colaboratory.intrinsic+json": {
              "type": "dataframe",
              "variable_name": "X",
              "summary": "{\n  \"name\": \"X\",\n  \"rows\": 10000,\n  \"fields\": [\n    {\n      \"column\": \"CreditScore\",\n      \"properties\": {\n        \"dtype\": \"number\",\n        \"std\": 96,\n        \"min\": 350,\n        \"max\": 850,\n        \"num_unique_values\": 460,\n        \"samples\": [\n          754,\n          533,\n          744\n        ],\n        \"semantic_type\": \"\",\n        \"description\": \"\"\n      }\n    },\n    {\n      \"column\": \"Geography\",\n      \"properties\": {\n        \"dtype\": \"category\",\n        \"num_unique_values\": 3,\n        \"samples\": [\n          \"France\",\n          \"Spain\",\n          \"Germany\"\n        ],\n        \"semantic_type\": \"\",\n        \"description\": \"\"\n      }\n    },\n    {\n      \"column\": \"Gender\",\n      \"properties\": {\n        \"dtype\": \"category\",\n        \"num_unique_values\": 2,\n        \"samples\": [\n          \"Male\",\n          \"Female\"\n        ],\n        \"semantic_type\": \"\",\n        \"description\": \"\"\n      }\n    },\n    {\n      \"column\": \"Age\",\n      \"properties\": {\n        \"dtype\": \"number\",\n        \"std\": 10,\n        \"min\": 18,\n        \"max\": 92,\n        \"num_unique_values\": 70,\n        \"samples\": [\n          61,\n          42\n        ],\n        \"semantic_type\": \"\",\n        \"description\": \"\"\n      }\n    },\n    {\n      \"column\": \"Tenure\",\n      \"properties\": {\n        \"dtype\": \"number\",\n        \"std\": 2,\n        \"min\": 0,\n        \"max\": 10,\n        \"num_unique_values\": 11,\n        \"samples\": [\n          6,\n          2\n        ],\n        \"semantic_type\": \"\",\n        \"description\": \"\"\n      }\n    },\n    {\n      \"column\": \"Balance\",\n      \"properties\": {\n        \"dtype\": \"number\",\n        \"std\": 62397.405202385955,\n        \"min\": 0.0,\n        \"max\": 250898.09,\n        \"num_unique_values\": 6382,\n        \"samples\": [\n          117707.18,\n          133050.97\n        ],\n        \"semantic_type\": \"\",\n        \"description\": \"\"\n      }\n    },\n    {\n      \"column\": \"NumOfProducts\",\n      \"properties\": {\n        \"dtype\": \"number\",\n        \"std\": 0,\n        \"min\": 1,\n        \"max\": 4,\n        \"num_unique_values\": 4,\n        \"samples\": [\n          3,\n          4\n        ],\n        \"semantic_type\": \"\",\n        \"description\": \"\"\n      }\n    },\n    {\n      \"column\": \"HasCrCard\",\n      \"properties\": {\n        \"dtype\": \"number\",\n        \"std\": 0,\n        \"min\": 0,\n        \"max\": 1,\n        \"num_unique_values\": 2,\n        \"samples\": [\n          0,\n          1\n        ],\n        \"semantic_type\": \"\",\n        \"description\": \"\"\n      }\n    },\n    {\n      \"column\": \"IsActiveMember\",\n      \"properties\": {\n        \"dtype\": \"number\",\n        \"std\": 0,\n        \"min\": 0,\n        \"max\": 1,\n        \"num_unique_values\": 2,\n        \"samples\": [\n          0,\n          1\n        ],\n        \"semantic_type\": \"\",\n        \"description\": \"\"\n      }\n    },\n    {\n      \"column\": \"EstimatedSalary\",\n      \"properties\": {\n        \"dtype\": \"number\",\n        \"std\": 57510.49281769816,\n        \"min\": 11.58,\n        \"max\": 199992.48,\n        \"num_unique_values\": 9999,\n        \"samples\": [\n          100809.99,\n          95273.73\n        ],\n        \"semantic_type\": \"\",\n        \"description\": \"\"\n      }\n    }\n  ]\n}"
            }
          },
          "metadata": {},
          "execution_count": 5
        }
      ]
    },
    {
      "cell_type": "code",
      "source": [
        "y"
      ],
      "metadata": {
        "colab": {
          "base_uri": "https://localhost:8080/"
        },
        "id": "25XPYOJkGjgT",
        "outputId": "65f00f2e-bc8c-43d9-a0c4-c9cbc887ddb8"
      },
      "execution_count": 6,
      "outputs": [
        {
          "output_type": "execute_result",
          "data": {
            "text/plain": [
              "0       1\n",
              "1       0\n",
              "2       1\n",
              "3       0\n",
              "4       0\n",
              "       ..\n",
              "9995    0\n",
              "9996    0\n",
              "9997    1\n",
              "9998    1\n",
              "9999    0\n",
              "Name: Exited, Length: 10000, dtype: int64"
            ]
          },
          "metadata": {},
          "execution_count": 6
        }
      ]
    },
    {
      "cell_type": "code",
      "source": [
        "## Feature Engineering ( to handle characteristic features)\n",
        "geography=pd.get_dummies(X['Geography'],drop_first=True)\n",
        "gender=pd.get_dummies(X['Gender'],drop_first=True)\n",
        "\n"
      ],
      "metadata": {
        "id": "18oNekHuGl_N"
      },
      "execution_count": 7,
      "outputs": []
    },
    {
      "cell_type": "code",
      "source": [
        "## concatenate these variables with dataframe\n",
        "X=X.drop(['Geography','Gender'],axis=1)"
      ],
      "metadata": {
        "collapsed": true,
        "id": "L2tXFwOvJI-2"
      },
      "execution_count": 12,
      "outputs": []
    },
    {
      "cell_type": "code",
      "source": [
        "X=pd.concat([X,geography,gender],axis=1)"
      ],
      "metadata": {
        "id": "TQ_AkPZoKUwT"
      },
      "execution_count": 13,
      "outputs": []
    },
    {
      "cell_type": "code",
      "source": [
        "#splitting the dataset into Training set and test set\n",
        "from sklearn.model_selection import train_test_split\n",
        "X_train, X_test, y_train, y_test = train_test_split(X, y, test_size = 0.2, random_state = 0)"
      ],
      "metadata": {
        "id": "BfJEqjT-KasX"
      },
      "execution_count": 14,
      "outputs": []
    },
    {
      "cell_type": "code",
      "source": [
        "#feature Scaling\n",
        "from sklearn.preprocessing import StandardScaler\n",
        "sc = StandardScaler() #removes the mean and scales the data to unit variance.\n",
        "X_train = sc.fit_transform(X_train) #to learn the scaling parameters\n",
        "X_test = sc.transform(X_test) #used on the test data to transform it using the parameters learned from the training data"
      ],
      "metadata": {
        "id": "7GXrdNvBUTbu"
      },
      "execution_count": 15,
      "outputs": []
    },
    {
      "cell_type": "code",
      "source": [
        "X_train"
      ],
      "metadata": {
        "colab": {
          "base_uri": "https://localhost:8080/"
        },
        "id": "0kTceHnTrTO9",
        "outputId": "69a6fb77-bd24-4257-ae08-0126cc9d4829"
      },
      "execution_count": 16,
      "outputs": [
        {
          "output_type": "execute_result",
          "data": {
            "text/plain": [
              "array([[ 0.16958176, -0.46460796,  0.00666099, ..., -0.5698444 ,\n",
              "         1.74309049, -1.09168714],\n",
              "       [-2.30455945,  0.30102557, -1.37744033, ...,  1.75486502,\n",
              "        -0.57369368,  0.91601335],\n",
              "       [-1.19119591, -0.94312892, -1.031415  , ..., -0.5698444 ,\n",
              "        -0.57369368, -1.09168714],\n",
              "       ...,\n",
              "       [ 0.9015152 , -0.36890377,  0.00666099, ..., -0.5698444 ,\n",
              "        -0.57369368,  0.91601335],\n",
              "       [-0.62420521, -0.08179119,  1.39076231, ..., -0.5698444 ,\n",
              "         1.74309049, -1.09168714],\n",
              "       [-0.28401079,  0.87525072, -1.37744033, ...,  1.75486502,\n",
              "        -0.57369368, -1.09168714]])"
            ]
          },
          "metadata": {},
          "execution_count": 16
        }
      ]
    },
    {
      "cell_type": "code",
      "source": [
        "X_test"
      ],
      "metadata": {
        "colab": {
          "base_uri": "https://localhost:8080/"
        },
        "id": "Axw8scsFrZGt",
        "outputId": "f0adcd8f-bb75-4f57-bafb-eccda809538a"
      },
      "execution_count": 17,
      "outputs": [
        {
          "output_type": "execute_result",
          "data": {
            "text/plain": [
              "array([[-0.55204276, -0.36890377,  1.04473698, ...,  1.75486502,\n",
              "        -0.57369368, -1.09168714],\n",
              "       [-1.31490297,  0.10961719, -1.031415  , ..., -0.5698444 ,\n",
              "        -0.57369368, -1.09168714],\n",
              "       [ 0.57162971,  0.30102557,  1.04473698, ..., -0.5698444 ,\n",
              "         1.74309049, -1.09168714],\n",
              "       ...,\n",
              "       [-0.74791227, -0.27319958, -1.37744033, ..., -0.5698444 ,\n",
              "         1.74309049,  0.91601335],\n",
              "       [-0.00566991, -0.46460796, -0.33936434, ...,  1.75486502,\n",
              "        -0.57369368,  0.91601335],\n",
              "       [-0.79945688, -0.84742473,  1.04473698, ...,  1.75486502,\n",
              "        -0.57369368,  0.91601335]])"
            ]
          },
          "metadata": {},
          "execution_count": 17
        }
      ]
    },
    {
      "cell_type": "code",
      "source": [
        "X_train.shape"
      ],
      "metadata": {
        "colab": {
          "base_uri": "https://localhost:8080/"
        },
        "id": "hbSnlicLrdfj",
        "outputId": "c4b262c4-f178-427c-bef7-5aef7b4da7b4"
      },
      "execution_count": 18,
      "outputs": [
        {
          "output_type": "execute_result",
          "data": {
            "text/plain": [
              "(8000, 14)"
            ]
          },
          "metadata": {},
          "execution_count": 18
        }
      ]
    },
    {
      "cell_type": "code",
      "source": [
        "X_test.shape"
      ],
      "metadata": {
        "colab": {
          "base_uri": "https://localhost:8080/"
        },
        "id": "a7w5B0lZrgxp",
        "outputId": "aa355323-2f31-4014-f6ba-5934d5cd2d1a"
      },
      "execution_count": 19,
      "outputs": [
        {
          "output_type": "execute_result",
          "data": {
            "text/plain": [
              "(2000, 14)"
            ]
          },
          "metadata": {},
          "execution_count": 19
        }
      ]
    },
    {
      "cell_type": "code",
      "source": [
        "## Creating the ANN\n",
        "from tensorflow.keras.models import Sequential #we can do FP & BP\n",
        "from tensorflow.keras.layers import Dense #we will be able to create neurons,HL,I/P L,O/P L\n",
        "from tensorflow.keras.layers import LeakyReLU,PReLU,ELU #activstion functions\n",
        "from tensorflow.keras.layers import Dropout #\n"
      ],
      "metadata": {
        "id": "EBaE0pQyrt_8"
      },
      "execution_count": 23,
      "outputs": []
    },
    {
      "cell_type": "code",
      "source": [
        "### intialising the ANN\n",
        "classifier = Sequential()"
      ],
      "metadata": {
        "id": "8px4OEVyt7hc"
      },
      "execution_count": 24,
      "outputs": []
    },
    {
      "cell_type": "code",
      "source": [
        "# Adding the input layer\n",
        "classifier.add(Dense(units=14,activation='relu'))"
      ],
      "metadata": {
        "id": "JGEZwonwuEZd"
      },
      "execution_count": 25,
      "outputs": []
    },
    {
      "cell_type": "code",
      "source": [
        "#adding the first hidden layer\n",
        "classifier.add(Dense(units=7,activation='relu'))\n",
        "classifier.add(Dropout(0.3))"
      ],
      "metadata": {
        "id": "c_jA1ix4ucAx"
      },
      "execution_count": 51,
      "outputs": []
    },
    {
      "cell_type": "code",
      "source": [
        "# adding the second hidden layer\n",
        "classifier.add(Dense(units=7,activation='relu'))\n",
        "classifier.add(Dropout(0.3))"
      ],
      "metadata": {
        "id": "xRp_NBdPulI-"
      },
      "execution_count": 52,
      "outputs": []
    },
    {
      "cell_type": "code",
      "source": [
        "## adding the output layer\n",
        "classifier.add(Dense(1,activation='sigmoid'))"
      ],
      "metadata": {
        "id": "_iDY8hAju2y5"
      },
      "execution_count": 53,
      "outputs": []
    },
    {
      "cell_type": "code",
      "source": [
        "## THE NEURAL NETWORK IS READY NOW!!"
      ],
      "metadata": {
        "id": "zk6Rzw1lvIf2"
      },
      "execution_count": 54,
      "outputs": []
    },
    {
      "cell_type": "code",
      "source": [
        "## for including learning rate in the optimiser\n",
        "import tensorflow\n",
        "opt=tensorflow.keras.optimizers.Adam(learning_rate=0.01)"
      ],
      "metadata": {
        "id": "7TvUYcAGvWoU"
      },
      "execution_count": 55,
      "outputs": []
    },
    {
      "cell_type": "code",
      "source": [
        "## Early stopping  ( when accuracy of the model is not inxreasing and it'll stop)\n",
        "import tensorflow as tf\n",
        "early_stopping=tf.keras.callbacks.EarlyStopping(\n",
        "    monitor=\"val_loss\",\n",
        "    min_delta=0.0001,\n",
        "    patience=20,\n",
        "    verbose=1,\n",
        "    mode=\"auto\",\n",
        "    baseline=None,\n",
        "    restore_best_weights=False,\n",
        "    start_from_epoch=0,\n",
        ")\n"
      ],
      "metadata": {
        "id": "kAmsHPdzw69q"
      },
      "execution_count": 56,
      "outputs": []
    },
    {
      "cell_type": "code",
      "source": [
        "classifier.compile(optimizer=opt,loss='binary_crossentropy',metrics=['accuracy'])"
      ],
      "metadata": {
        "id": "xdSZuV5wvDF0"
      },
      "execution_count": 57,
      "outputs": []
    },
    {
      "cell_type": "code",
      "source": [
        "#Train the Neural network\n",
        "model_history=classifier.fit(X_train,y_train,validation_split=0.33,batch_size=10,epochs=1000,callbacks=early_stopping)"
      ],
      "metadata": {
        "colab": {
          "base_uri": "https://localhost:8080/"
        },
        "id": "5qU_dX-ov5lu",
        "outputId": "d4153f08-f095-4be0-bbcb-42ed9db0228f"
      },
      "execution_count": 58,
      "outputs": [
        {
          "output_type": "stream",
          "name": "stdout",
          "text": [
            "Epoch 1/1000\n",
            "536/536 [==============================] - 3s 3ms/step - loss: 0.4358 - accuracy: 0.8263 - val_loss: 0.3961 - val_accuracy: 0.8455\n",
            "Epoch 2/1000\n",
            "536/536 [==============================] - 2s 3ms/step - loss: 0.4138 - accuracy: 0.8352 - val_loss: 0.3975 - val_accuracy: 0.8432\n",
            "Epoch 3/1000\n",
            "536/536 [==============================] - 1s 3ms/step - loss: 0.3960 - accuracy: 0.8378 - val_loss: 0.3944 - val_accuracy: 0.8493\n",
            "Epoch 4/1000\n",
            "536/536 [==============================] - 1s 3ms/step - loss: 0.4079 - accuracy: 0.8332 - val_loss: 0.4068 - val_accuracy: 0.8357\n",
            "Epoch 5/1000\n",
            "536/536 [==============================] - 2s 4ms/step - loss: 0.4070 - accuracy: 0.8272 - val_loss: 0.4008 - val_accuracy: 0.8429\n",
            "Epoch 6/1000\n",
            "536/536 [==============================] - 2s 4ms/step - loss: 0.3993 - accuracy: 0.8293 - val_loss: 0.3980 - val_accuracy: 0.8466\n",
            "Epoch 7/1000\n",
            "536/536 [==============================] - 1s 3ms/step - loss: 0.4012 - accuracy: 0.8386 - val_loss: 0.3992 - val_accuracy: 0.8470\n",
            "Epoch 8/1000\n",
            "536/536 [==============================] - 1s 3ms/step - loss: 0.4138 - accuracy: 0.8203 - val_loss: 0.4000 - val_accuracy: 0.8432\n",
            "Epoch 9/1000\n",
            "536/536 [==============================] - 2s 3ms/step - loss: 0.4073 - accuracy: 0.8229 - val_loss: 0.4075 - val_accuracy: 0.8387\n",
            "Epoch 10/1000\n",
            "536/536 [==============================] - 1s 3ms/step - loss: 0.4108 - accuracy: 0.8328 - val_loss: 0.4201 - val_accuracy: 0.8372\n",
            "Epoch 11/1000\n",
            "536/536 [==============================] - 1s 3ms/step - loss: 0.4140 - accuracy: 0.8330 - val_loss: 0.4087 - val_accuracy: 0.8379\n",
            "Epoch 12/1000\n",
            "536/536 [==============================] - 1s 3ms/step - loss: 0.4298 - accuracy: 0.8317 - val_loss: 0.4144 - val_accuracy: 0.8413\n",
            "Epoch 13/1000\n",
            "536/536 [==============================] - 2s 3ms/step - loss: 0.4083 - accuracy: 0.8283 - val_loss: 0.4039 - val_accuracy: 0.8402\n",
            "Epoch 14/1000\n",
            "536/536 [==============================] - 2s 4ms/step - loss: 0.4048 - accuracy: 0.8244 - val_loss: 0.4096 - val_accuracy: 0.7955\n",
            "Epoch 15/1000\n",
            "536/536 [==============================] - 1s 3ms/step - loss: 0.4000 - accuracy: 0.8274 - val_loss: 0.4027 - val_accuracy: 0.8429\n",
            "Epoch 16/1000\n",
            "536/536 [==============================] - 1s 3ms/step - loss: 0.4036 - accuracy: 0.8319 - val_loss: 0.3975 - val_accuracy: 0.8379\n",
            "Epoch 17/1000\n",
            "536/536 [==============================] - 1s 3ms/step - loss: 0.3995 - accuracy: 0.8388 - val_loss: 0.3945 - val_accuracy: 0.8463\n",
            "Epoch 18/1000\n",
            "536/536 [==============================] - 1s 3ms/step - loss: 0.4099 - accuracy: 0.8255 - val_loss: 0.4036 - val_accuracy: 0.8391\n",
            "Epoch 19/1000\n",
            "536/536 [==============================] - 2s 3ms/step - loss: 0.4168 - accuracy: 0.8306 - val_loss: 0.4716 - val_accuracy: 0.7955\n",
            "Epoch 20/1000\n",
            "536/536 [==============================] - 1s 3ms/step - loss: 0.4156 - accuracy: 0.8233 - val_loss: 0.3943 - val_accuracy: 0.8410\n",
            "Epoch 21/1000\n",
            "536/536 [==============================] - 1s 3ms/step - loss: 0.3988 - accuracy: 0.8321 - val_loss: 0.3952 - val_accuracy: 0.8455\n",
            "Epoch 22/1000\n",
            "536/536 [==============================] - 2s 4ms/step - loss: 0.4011 - accuracy: 0.8291 - val_loss: 0.3924 - val_accuracy: 0.8444\n",
            "Epoch 23/1000\n",
            "536/536 [==============================] - 1s 3ms/step - loss: 0.4120 - accuracy: 0.8272 - val_loss: 0.4060 - val_accuracy: 0.8402\n",
            "Epoch 24/1000\n",
            "536/536 [==============================] - 2s 3ms/step - loss: 0.4127 - accuracy: 0.8252 - val_loss: 0.3987 - val_accuracy: 0.8383\n",
            "Epoch 25/1000\n",
            "536/536 [==============================] - 1s 3ms/step - loss: 0.4125 - accuracy: 0.8289 - val_loss: 0.4055 - val_accuracy: 0.8338\n",
            "Epoch 26/1000\n",
            "536/536 [==============================] - 2s 3ms/step - loss: 0.4136 - accuracy: 0.8315 - val_loss: 0.4101 - val_accuracy: 0.8326\n",
            "Epoch 27/1000\n",
            "536/536 [==============================] - 1s 3ms/step - loss: 0.4079 - accuracy: 0.8291 - val_loss: 0.4105 - val_accuracy: 0.8285\n",
            "Epoch 28/1000\n",
            "536/536 [==============================] - 1s 3ms/step - loss: 0.4047 - accuracy: 0.8313 - val_loss: 0.4046 - val_accuracy: 0.8395\n",
            "Epoch 29/1000\n",
            "536/536 [==============================] - 2s 3ms/step - loss: 0.4111 - accuracy: 0.8283 - val_loss: 0.4237 - val_accuracy: 0.8217\n",
            "Epoch 30/1000\n",
            "536/536 [==============================] - 2s 4ms/step - loss: 0.4116 - accuracy: 0.8224 - val_loss: 0.4008 - val_accuracy: 0.8387\n",
            "Epoch 31/1000\n",
            "536/536 [==============================] - 1s 3ms/step - loss: 0.4069 - accuracy: 0.8313 - val_loss: 0.4139 - val_accuracy: 0.8247\n",
            "Epoch 32/1000\n",
            "536/536 [==============================] - 2s 3ms/step - loss: 0.4073 - accuracy: 0.8280 - val_loss: 0.3948 - val_accuracy: 0.8383\n",
            "Epoch 33/1000\n",
            "536/536 [==============================] - 1s 3ms/step - loss: 0.4056 - accuracy: 0.8261 - val_loss: 0.3990 - val_accuracy: 0.8440\n",
            "Epoch 34/1000\n",
            "536/536 [==============================] - 1s 3ms/step - loss: 0.4057 - accuracy: 0.8276 - val_loss: 0.4042 - val_accuracy: 0.8270\n",
            "Epoch 35/1000\n",
            "536/536 [==============================] - 1s 3ms/step - loss: 0.4040 - accuracy: 0.8281 - val_loss: 0.4181 - val_accuracy: 0.8262\n",
            "Epoch 36/1000\n",
            "536/536 [==============================] - 1s 3ms/step - loss: 0.4002 - accuracy: 0.8281 - val_loss: 0.4060 - val_accuracy: 0.8334\n",
            "Epoch 37/1000\n",
            "536/536 [==============================] - 3s 5ms/step - loss: 0.4085 - accuracy: 0.8274 - val_loss: 0.4193 - val_accuracy: 0.7955\n",
            "Epoch 38/1000\n",
            "536/536 [==============================] - 2s 4ms/step - loss: 0.4060 - accuracy: 0.8315 - val_loss: 0.4108 - val_accuracy: 0.8326\n",
            "Epoch 39/1000\n",
            "536/536 [==============================] - 1s 3ms/step - loss: 0.4126 - accuracy: 0.8309 - val_loss: 0.4101 - val_accuracy: 0.8402\n",
            "Epoch 40/1000\n",
            "536/536 [==============================] - 1s 3ms/step - loss: 0.4296 - accuracy: 0.8300 - val_loss: 0.4283 - val_accuracy: 0.8345\n",
            "Epoch 41/1000\n",
            "536/536 [==============================] - 1s 3ms/step - loss: 0.4233 - accuracy: 0.8287 - val_loss: 0.4314 - val_accuracy: 0.7955\n",
            "Epoch 42/1000\n",
            "536/536 [==============================] - 1s 3ms/step - loss: 0.4119 - accuracy: 0.8350 - val_loss: 0.4114 - val_accuracy: 0.8360\n",
            "Epoch 42: early stopping\n"
          ]
        }
      ]
    },
    {
      "cell_type": "code",
      "source": [
        "model_history.history.keys()"
      ],
      "metadata": {
        "colab": {
          "base_uri": "https://localhost:8080/"
        },
        "id": "J2orBcV7w0dF",
        "outputId": "e932e855-69d9-489e-a522-11c950b57739"
      },
      "execution_count": 59,
      "outputs": [
        {
          "output_type": "execute_result",
          "data": {
            "text/plain": [
              "dict_keys(['loss', 'accuracy', 'val_loss', 'val_accuracy'])"
            ]
          },
          "metadata": {},
          "execution_count": 59
        }
      ]
    },
    {
      "cell_type": "code",
      "source": [
        "#summarize history for accuracy\n",
        "plt.plot(model_history.history['accuracy'])\n",
        "plt.plot(model_history.history['val_accuracy'])\n",
        "plt.title('model accuracy')\n",
        "plt.ylabel('accuracy')\n",
        "plt.xlabel('epoch')\n",
        "plt.legend(['train','test'],loc='upper left')\n",
        "plt.show()"
      ],
      "metadata": {
        "colab": {
          "base_uri": "https://localhost:8080/",
          "height": 472
        },
        "id": "R7W-uj2OyZkx",
        "outputId": "f62907a1-7b52-479c-8dca-ac159f26c613"
      },
      "execution_count": 60,
      "outputs": [
        {
          "output_type": "display_data",
          "data": {
            "text/plain": [
              "<Figure size 640x480 with 1 Axes>"
            ],
            "image/png": "[encoded data removed]"
          },
          "metadata": {}
        }
      ]
    },
    {
      "cell_type": "code",
      "source": [
        "# making predictions and evaluating the model\n",
        "y_pred = classifier.predict(X_test)\n",
        "y_pred = (y_pred > 0.5)"
      ],
      "metadata": {
        "colab": {
          "base_uri": "https://localhost:8080/"
        },
        "id": "UzF--2Lly-Sq",
        "outputId": "8e005c81-66cf-4a99-b592-fb180c7e6e71"
      },
      "execution_count": 61,
      "outputs": [
        {
          "output_type": "stream",
          "name": "stdout",
          "text": [
            "63/63 [==============================] - 0s 1ms/step\n"
          ]
        }
      ]
    },
    {
      "cell_type": "code",
      "source": [
        "# make the confusion matrix\n",
        "from sklearn.metrics import confusion_matrix\n",
        "cm = confusion_matrix(y_test, y_pred)\n",
        "cm"
      ],
      "metadata": {
        "colab": {
          "base_uri": "https://localhost:8080/"
        },
        "id": "uwi3DzcBzGjB",
        "outputId": "2df402b7-5ea3-40a3-c27b-abb2a217a805"
      },
      "execution_count": 62,
      "outputs": [
        {
          "output_type": "execute_result",
          "data": {
            "text/plain": [
              "array([[1578,   17],\n",
              "       [ 282,  123]])"
            ]
          },
          "metadata": {},
          "execution_count": 62
        }
      ]
    },
    {
      "cell_type": "code",
      "source": [
        "##calculate the accuracy\n",
        "from sklearn.metrics import accuracy_score\n",
        "score=accuracy_score(y_pred,y_test)"
      ],
      "metadata": {
        "id": "C7m7rPIlzeMw"
      },
      "execution_count": 63,
      "outputs": []
    },
    {
      "cell_type": "code",
      "source": [
        "score"
      ],
      "metadata": {
        "colab": {
          "base_uri": "https://localhost:8080/"
        },
        "id": "QU5-j3T3zmBv",
        "outputId": "5dd4831a-7eb6-44a7-a0d9-88511b63f084"
      },
      "execution_count": 64,
      "outputs": [
        {
          "output_type": "execute_result",
          "data": {
            "text/plain": [
              "0.8505"
            ]
          },
          "metadata": {},
          "execution_count": 64
        }
      ]
    },
    {
      "cell_type": "code",
      "source": [
        "#get the weighhts\n",
        "classifier.get_weights()"
      ],
      "metadata": {
        "colab": {
          "base_uri": "https://localhost:8080/"
        },
        "id": "OuQRbO96zoif",
        "outputId": "029872d5-8957-4af8-bfbb-4ec6d3e15a84"
      },
      "execution_count": 65,
      "outputs": [
        {
          "output_type": "execute_result",
          "data": {
            "text/plain": [
              "[array([[ 2.49301815e+00, -5.18419743e-01,  3.59550548e+00,\n",
              "          1.39421618e+00, -7.41451263e-01, -1.52369475e+00,\n",
              "          1.31037819e+00,  3.07620674e-01, -2.13709965e-01,\n",
              "         -7.10685432e-01, -5.69201671e-02, -1.90148556e+00,\n",
              "          1.83352900e+00,  2.46778512e+00],\n",
              "        [-9.48692977e-01,  3.95225501e+00, -4.92716455e+00,\n",
              "         -5.01551437e+00, -4.78059769e+00,  7.90968001e-01,\n",
              "         -5.13430297e-01,  1.23752093e+00,  4.81888056e+00,\n",
              "         -7.05998802e+00, -6.75682020e+00, -1.94896936e+00,\n",
              "         -1.20094824e+00,  3.86690187e+00],\n",
              "        [-1.16677618e+00, -5.85122168e-01,  2.34461498e+00,\n",
              "          3.44980526e+00, -1.86582136e+00, -7.68827200e-01,\n",
              "         -2.59071159e+00, -3.12173933e-01,  6.42505229e-01,\n",
              "         -2.94867015e+00, -4.54981625e-01,  1.48162949e+00,\n",
              "          1.01755953e+00, -2.09849191e+00],\n",
              "        [-3.47960424e+00, -1.23852789e+00,  2.66118479e+00,\n",
              "         -4.32655001e+00, -6.65792942e-01, -3.96041608e+00,\n",
              "          4.48581904e-01,  1.47418404e+00,  1.35253918e+00,\n",
              "          1.66481018e+00,  1.22987676e+00,  3.31305414e-01,\n",
              "         -3.29096746e+00,  3.88330793e+00],\n",
              "        [ 2.92831445e+00, -9.61411476e+00, -1.53660572e+00,\n",
              "         -1.76296580e+00, -8.66975665e-01,  6.28495395e-01,\n",
              "         -6.36240542e-01,  7.16364527e+00,  3.25338244e-01,\n",
              "         -2.02699518e+00, -5.72871029e-01,  3.70794773e+00,\n",
              "          5.76545048e+00,  1.91630948e+00],\n",
              "        [-6.42469943e-01, -1.13605119e-01,  1.60652053e+00,\n",
              "         -1.96576178e+00,  1.61348712e+00, -8.58959079e-01,\n",
              "         -4.69614327e-01, -6.24668956e-01, -1.55616224e-01,\n",
              "          4.50268537e-02, -5.01890957e-01, -2.09171593e-01,\n",
              "         -1.97419897e-01, -5.73556032e-03],\n",
              "        [-1.75796664e+00, -1.44916248e+00,  2.46530339e-01,\n",
              "         -9.88204837e-01,  3.95808935e+00,  2.18151021e+00,\n",
              "         -4.26985359e+00, -9.95102644e-01,  4.54342651e+00,\n",
              "          7.26580620e-01, -5.77211201e-01,  1.93981624e+00,\n",
              "          6.21432543e-01,  3.93078439e-02],\n",
              "        [-1.37347186e+00,  1.01613271e+00,  2.30259085e+00,\n",
              "         -4.79542875e+00,  3.01824141e+00,  2.49935174e+00,\n",
              "          3.86566019e+00,  2.14952752e-01, -8.30837011e-01,\n",
              "          1.86987960e+00, -2.37129855e+00,  1.90843916e+00,\n",
              "         -3.19052815e-01, -1.26655793e+00],\n",
              "        [-1.70234728e+00,  1.23901331e+00,  3.48614633e-01,\n",
              "          1.47331476e+00, -4.48516816e-01, -1.61902857e+00,\n",
              "         -1.80217171e+00, -1.98183447e-01,  2.70444363e-01,\n",
              "         -4.55051422e-01, -4.18595552e+00,  1.67030597e+00,\n",
              "          6.78516865e-01,  1.00151554e-01],\n",
              "        [ 5.88991679e-02, -1.01297224e+00,  2.73556376e+00,\n",
              "          3.44689369e-01, -1.04605889e+00, -1.27391768e+00,\n",
              "         -3.00684834e+00,  1.15442261e-01,  1.04945827e+00,\n",
              "         -2.96206379e+00, -3.71769726e-01, -5.59363281e-03,\n",
              "         -7.87696466e-02, -1.67470241e+00],\n",
              "        [-1.50002611e+00,  4.55048472e-01, -8.50138962e-02,\n",
              "          3.49615979e+00,  3.47403383e+00,  1.63630509e+00,\n",
              "         -7.13035226e-01,  4.22831714e-01, -3.09234738e-01,\n",
              "         -2.75235057e+00, -3.56880464e-02, -1.09937251e+00,\n",
              "          9.51190054e-01,  9.27886553e-03],\n",
              "        [-2.08997393e+00,  8.31174314e-01,  2.75101364e-01,\n",
              "          1.78987193e+00, -8.00830945e-02, -1.44662499e+00,\n",
              "         -1.76007986e+00, -8.15583646e-01,  1.36480525e-01,\n",
              "         -1.34340584e-01, -3.88683319e+00,  1.83527303e+00,\n",
              "          2.74603605e-01, -1.48529289e-02],\n",
              "        [ 2.80428588e-01, -9.09716606e-01,  2.33630157e+00,\n",
              "         -4.56574261e-01, -3.41182590e-01, -1.05206704e+00,\n",
              "         -2.56710815e+00, -3.67419869e-02,  1.49015462e+00,\n",
              "         -3.60032177e+00, -2.57971466e-01,  2.44406968e-01,\n",
              "          2.14155525e-01, -1.47290921e+00],\n",
              "        [-1.63320172e+00,  4.05898362e-01,  6.05202019e-01,\n",
              "          3.58055615e+00,  3.38256240e+00,  9.68254626e-01,\n",
              "          1.51011418e-03, -4.08063382e-01, -4.98305321e-01,\n",
              "         -2.64204955e+00,  6.24194324e-01, -1.30481184e+00,\n",
              "          1.30573583e+00,  1.58532545e-01]], dtype=float32),\n",
              " array([-2.6636946 ,  0.97705936, -1.4635472 , -4.143393  ,  0.8841197 ,\n",
              "        -6.732807  , -2.68182   , -7.263124  , -6.9753284 ,  2.0314116 ,\n",
              "         4.0451803 , -4.542212  , -3.0676827 , -0.9222192 ], dtype=float32),\n",
              " array([[ 0.48677483,  2.732426  , -0.42500737,  1.9804262 , -0.10879605,\n",
              "         -0.7007544 , -0.43728727],\n",
              "        [-2.3771143 , -4.332097  ,  1.1244013 ,  3.0061302 ,  0.19089861,\n",
              "         -0.6177897 , -0.40181878],\n",
              "        [ 0.17089814,  2.3936484 , -0.7472291 , -3.303933  , -1.3608336 ,\n",
              "          0.02128159, -2.2772944 ],\n",
              "        [ 0.3549789 ,  7.467953  ,  0.7313921 , -3.8213453 , -0.4823786 ,\n",
              "         -0.09201225,  1.3869989 ],\n",
              "        [ 1.9758835 , -0.48583353, -2.4220495 ,  0.1453084 , -2.399136  ,\n",
              "         -1.0817324 , -2.5561676 ],\n",
              "        [-3.2938845 ,  3.1043084 , -1.783163  , -3.7202811 ,  3.276356  ,\n",
              "         -1.043142  ,  0.9178297 ],\n",
              "        [ 2.0566852 , -1.7329859 ,  1.38483   , -1.1752942 ,  2.5107424 ,\n",
              "         -0.572424  , -0.07175846],\n",
              "        [-3.6243646 , -4.503791  ,  6.1340218 ,  5.176851  , -1.9097209 ,\n",
              "         -1.0153965 , -1.8957516 ],\n",
              "        [ 0.02891546,  2.1894007 , -4.189725  , -4.714988  , -3.384451  ,\n",
              "         -1.1882843 ,  3.4422376 ],\n",
              "        [ 2.080602  , -0.5067515 , -2.9861047 , -1.9748868 , -1.2202317 ,\n",
              "         -0.6772677 , -6.774001  ],\n",
              "        [ 1.5692184 ,  1.0209472 , -4.487074  , -1.6153251 , -6.5215406 ,\n",
              "         -0.25947535, -1.2833536 ],\n",
              "        [ 1.8311722 , -0.9340331 ,  1.2240335 , -0.2635503 , -0.5571777 ,\n",
              "         -0.92395496, -1.6205249 ],\n",
              "        [ 0.13387412,  0.969449  ,  1.9149553 ,  1.9219037 , -8.099435  ,\n",
              "         -0.15856387,  2.6707106 ],\n",
              "        [-1.0402231 , -2.451593  ,  0.25531125,  1.7890229 , -0.68432957,\n",
              "         -0.22244327,  0.73009306]], dtype=float32),\n",
              " array([ 3.7321656,  2.4526355, -1.6513069, -1.8801275, -3.0090134,\n",
              "        -1.2260773, -3.4605453], dtype=float32),\n",
              " array([[-3.8868666e-01, -1.1330868e+00, -2.2141774e-01, -5.8313251e-01,\n",
              "          8.5180807e-01, -4.8283401e-01, -6.9144577e-01],\n",
              "        [-2.4508226e-01,  1.9253564e+00, -3.5447709e-05, -1.3726748e+00,\n",
              "          2.4426830e+00, -8.6663234e-01, -1.7937931e-01],\n",
              "        [-7.0204519e-02,  4.2144549e-01, -1.1862700e+00,  8.7830901e-02,\n",
              "         -7.1200478e-01,  9.5435631e-01, -8.9905083e-01],\n",
              "        [-5.9651184e-01, -3.3674386e+00, -1.0521821e+00, -6.4754128e-01,\n",
              "         -1.6527903e+00,  1.2256411e-01, -1.3406593e+00],\n",
              "        [ 5.3738938e-03, -9.3933415e-01, -5.5645742e-02, -4.2877093e-01,\n",
              "         -1.0467011e+00,  9.3297565e-01, -1.2476782e-01],\n",
              "        [-2.9264018e-01,  7.2811455e-01, -3.7197855e-01, -7.4482608e-01,\n",
              "          4.2750767e-01,  1.4221671e-01, -8.5138336e-02],\n",
              "        [-7.5703704e-01, -5.8579105e-01, -1.5164527e-01, -2.4126298e+00,\n",
              "          1.4200455e+00, -8.2763040e-01, -4.7063157e-01]], dtype=float32),\n",
              " array([-0.5474825 , -4.319745  , -0.5810069 , -3.0259964 , -0.41343287,\n",
              "        -2.6670742 , -1.1241361 ], dtype=float32),\n",
              " array([[ 0.3688807 ],\n",
              "        [-0.6488564 ],\n",
              "        [ 0.01916653],\n",
              "        [ 0.32991636],\n",
              "        [-0.61493266],\n",
              "        [ 0.11580328],\n",
              "        [-0.17246602]], dtype=float32),\n",
              " array([-1.3643354], dtype=float32),\n",
              " array([[ 3.4259584 ,  2.89918   , -0.10092755,  3.2536025 , -0.0993908 ,\n",
              "         -0.06820625, -0.77063465]], dtype=float32),\n",
              " array([-0.12690021, -0.41119727, -0.06933892, -0.19238217,  0.        ,\n",
              "         0.        ,  0.        ], dtype=float32),\n",
              " array([[ 1.1794258 , -0.17289376,  0.9085806 , -1.4076359 ,  1.0482564 ,\n",
              "         -0.6183769 ,  2.019466  ],\n",
              "        [ 1.1126152 , -0.65384656,  1.1486547 ,  1.4139688 ,  0.93805814,\n",
              "         -0.10000411, -0.7178741 ],\n",
              "        [-0.53216964, -0.18330193,  0.36835414, -0.21184039,  0.22769783,\n",
              "          0.11175147, -0.02210661],\n",
              "        [ 0.88168836, -0.04236895,  1.6803175 ,  0.935469  ,  1.8373641 ,\n",
              "         -0.55160105, -0.54104173],\n",
              "        [-0.12859935, -0.33794677,  0.38715136,  0.4633001 , -0.6215859 ,\n",
              "          0.41399002,  0.2713744 ],\n",
              "        [-0.502734  , -0.14634162, -0.6491218 ,  0.46939385, -0.64315027,\n",
              "         -0.4037085 , -0.54361176],\n",
              "        [ 0.11705291, -0.05582136,  0.4042356 ,  0.12547022, -0.22016793,\n",
              "         -0.47572142,  0.60516834]], dtype=float32),\n",
              " array([-0.00192273,  0.        , -0.12996289, -0.68977785, -0.1938779 ,\n",
              "        -0.03287493, -0.6049296 ], dtype=float32),\n",
              " array([[-1.2814974e+00,  4.7166929e-01,  6.1557785e-02, -1.2122504e+00,\n",
              "          1.0343322e+00, -2.5234185e-05,  4.2439651e-01],\n",
              "        [-3.6480281e-01, -4.3520498e-01,  3.0957818e-01,  5.7183802e-01,\n",
              "          5.2186441e-01,  2.5805581e-01,  4.8744595e-01],\n",
              "        [-3.8539073e-01,  5.7262009e-01, -7.1292579e-01, -9.3488044e-01,\n",
              "          4.3189937e-01,  1.2279845e+00, -1.9604428e-01],\n",
              "        [-9.2330182e-01,  4.4671676e-01,  5.2096105e-01, -7.6940880e-05,\n",
              "          4.5335019e-01,  9.1117316e-01,  1.2465457e+00],\n",
              "        [-6.7773741e-01,  1.8311997e-01,  4.4412455e-01, -1.7611262e+00,\n",
              "         -1.3338625e+00,  2.5824932e-02,  7.4137914e-01],\n",
              "        [ 5.0329602e-01, -2.2596575e-03,  3.7228577e-02, -1.7746201e-02,\n",
              "         -4.4018421e-01,  4.1936257e-01, -7.0751578e-02],\n",
              "        [-2.5047287e-01,  9.3057811e-01, -5.5584148e-02,  3.5901856e-01,\n",
              "         -2.9097587e-01,  1.7196327e+00,  6.5047872e-01]], dtype=float32),\n",
              " array([-0.07691999, -0.05978986, -0.483444  , -1.4950039 , -0.13316023,\n",
              "        -0.16420221, -0.15473439], dtype=float32),\n",
              " array([[ 0.21742551, -0.40411747, -0.05631774,  0.32012385,  0.09146506,\n",
              "         -0.10952424,  0.28510404],\n",
              "        [-2.2790823 ,  0.14555179, -0.9171724 , -1.1304644 , -0.36458364,\n",
              "         -1.818733  , -0.396785  ],\n",
              "        [-0.7265101 ,  0.25362137, -1.2403061 , -0.1666095 , -0.31628942,\n",
              "         -0.6053409 , -0.747419  ],\n",
              "        [ 0.16823387,  1.7892523 ,  0.9443008 , -0.16501024, -0.2610246 ,\n",
              "         -0.1422484 ,  0.5038343 ],\n",
              "        [-1.6726619 ,  0.3909704 , -0.5819671 , -0.6752595 , -0.2787122 ,\n",
              "         -1.3102077 , -1.0500517 ],\n",
              "        [-0.36791423,  0.18873554, -1.6415263 , -1.454087  , -1.5455861 ,\n",
              "         -1.8868032 , -0.65408224],\n",
              "        [-1.1151736 ,  0.19028759, -0.5978557 , -1.2284995 , -0.4693376 ,\n",
              "         -0.76466197, -0.8279503 ]], dtype=float32),\n",
              " array([ 0.47346503, -0.5183577 ,  0.52356845,  0.66025287,  0.7839433 ,\n",
              "         0.5492881 ,  0.53351396], dtype=float32),\n",
              " array([[-0.43296772],\n",
              "        [ 0.14134884],\n",
              "        [-0.4340618 ],\n",
              "        [-0.5049326 ],\n",
              "        [-0.50675964],\n",
              "        [-0.5364083 ],\n",
              "        [-0.43061697]], dtype=float32),\n",
              " array([-0.41104186], dtype=float32)]"
            ]
          },
          "metadata": {},
          "execution_count": 65
        }
      ]
    }
  ]
}